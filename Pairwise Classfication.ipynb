{
 "cells": [
  {
   "cell_type": "code",
   "execution_count": 1,
   "metadata": {
    "collapsed": false
   },
   "outputs": [
    {
     "name": "stdout",
     "output_type": "stream",
     "text": [
      "# elements:  12103\n",
      "sample of contents:\n",
      "{u'postTime': 1338389135, u'postBody': u'he is daun mroscarjon', u'parentPostID': 38582, u'attachmentFileName': None, u'forumDesc': u'<font color=\"red\">Scammers/Rippers activity, reports. Discovered scammers.</font>', u'imageWidth': None, u'forumDescTranslated': u'', u'forumName': u'<font color=\"red\">Black List</font>', u'threadTitle': u'RIPPER -=ZVER=-', u'imageMimeType': None, u'imageHeight': None, u'imageType': None, u'postSubjectTranslated': None, u'imageMD5': None, u'threadTitleTranslated': u'', u'address': u'http://omerta.cm', u'userName': u'-=ZVER=-', u'displayName': u'Omerta - The World Is Yours', u'imageSize': None, u'postSubject': u'', u'forumNameTranslated': u'', u'downloadCount': None, u'postBodyTranslated': u'', u'postID': 38599}\n"
     ]
    }
   ],
   "source": [
    "import ujson\n",
    " \n",
    "#test loading the file, printing sample contents\n",
    "with open('data/postsBFiltered.txt','r') as fp:\n",
    "    temp1 = ujson.load(fp);\n",
    "print '# elements: ', len(temp1)\n",
    "\n",
    "print 'sample of contents:'\n",
    "print repr(temp1[0]).decode(\"unicode-escape\")"
   ]
  },
  {
   "cell_type": "code",
   "execution_count": 2,
   "metadata": {
    "collapsed": true
   },
   "outputs": [],
   "source": [
    "def txt_dict(filename):\n",
    "    #test loading the file, printing sample contents\n",
    "    with open(filename,'r') as fp:\n",
    "        temp = ujson.load(fp);\n",
    "    #print '# elements: ', len(temp1)\n",
    "    #print 'sample of contents:'\n",
    "    #print repr(temp1[1]).decode(\"unicode-escape\")\n",
    "    return temp"
   ]
  },
  {
   "cell_type": "code",
   "execution_count": null,
   "metadata": {
    "collapsed": false
   },
   "outputs": [],
   "source": []
  },
  {
   "cell_type": "code",
   "execution_count": 3,
   "metadata": {
    "collapsed": false
   },
   "outputs": [],
   "source": [
    "def collapse_data(data):\n",
    "    \n",
    "    users = {}\n",
    "    \n",
    "    \n",
    "    for item in data:\n",
    "        \n",
    "        user = users.get(item['userName'], None)\n",
    "        \n",
    "        if user != None:\n",
    "       \n",
    "            user['groupName'].add(item['groupName'])    \n",
    "            if item['imageName'] is not None:\n",
    "         \n",
    "        \n",
    "                user['image'].add( (item['imageName'],item['imageHeight'],item['imageWidth'],item['imageType'],item['imageSize']))\n",
    "    \n",
    "            fieldName = item.get('userProfileFieldName', None)\n",
    "            \n",
    "            if fieldName is not None:\n",
    "            \n",
    "                user[fieldName] = item['userProfileFieldValue']\n",
    "    \n",
    "    \n",
    "        else:\n",
    "        \n",
    "            user = item['userName']\n",
    "        \n",
    "            users[user] = {}\n",
    "        \n",
    "            users[user]['groupName'] = set([item['groupName']])\n",
    "            \n",
    "            users[user]['registrationTime']= item['registrationTime']\n",
    "            \n",
    "            if item['imageName'] is not None:\n",
    "            \n",
    "            \n",
    "                users[user]['image']= set( [(item['imageName'],item['imageHeight'],item['imageWidth'],item['imageType'],item['imageSize'])] ) \n",
    "                \n",
    "                \n",
    "            else:\n",
    "                \n",
    "                users[user]['image'] =set([])\n",
    "        \n",
    "    return users"
   ]
  },
  {
   "cell_type": "code",
   "execution_count": 4,
   "metadata": {
    "collapsed": false
   },
   "outputs": [],
   "source": [
    "users = collapse_data(txt_dict(\"data/usersAFiltered.txt\"))"
   ]
  },
  {
   "cell_type": "code",
   "execution_count": 36,
   "metadata": {
    "collapsed": false
   },
   "outputs": [],
   "source": [
    "posts =  txt_dict(\"data/postsAFiltered.txt\")"
   ]
  },
  {
   "cell_type": "code",
   "execution_count": 5,
   "metadata": {
    "collapsed": false
   },
   "outputs": [
    {
     "data": {
      "text/plain": [
       "{u'ICQ': u'302032',\n",
       " u'Profile Visits': u'0',\n",
       " u'Reputation': u'10',\n",
       " u'Reputation Level': u'5 (Min Reputation 10)',\n",
       " u'Time Zone': u'UTC +2',\n",
       " u'Title': u'Old User',\n",
       " 'groupName': {u'Old Users', u'Registered Users'},\n",
       " 'image': set(),\n",
       " 'registrationTime': 1296223398}"
      ]
     },
     "execution_count": 5,
     "metadata": {},
     "output_type": "execute_result"
    }
   ],
   "source": [
    "users['-=Graf=-']"
   ]
  },
  {
   "cell_type": "code",
   "execution_count": 34,
   "metadata": {
    "collapsed": false
   },
   "outputs": [],
   "source": [
    "def usr_bow(posts):\n",
    "    \n",
    "    posts_bow = {}\n",
    "    \n",
    "    for post in posts:\n",
    "    \n",
    "        if posts_bow.get(post['userName'], None) == None:\n",
    "            \n",
    "            posts_bow[post['userName']] = {}\n",
    "            \n",
    "            posts_bow[post['userName']]['body'] = [post['postBody']  ]\n",
    "            \n",
    "            posts_bow[post['userName']]['subject'] = [post['postSubject']  ]\n",
    "            \n",
    "            posts_bow[post['userName']]['title'] = [post['threadTitle']  ]\n",
    "\n",
    "\n",
    "            \n",
    "        else:\n",
    "            \n",
    "            posts_bow[post['userName']]['body'] = posts_bow[post['userName']]['body']  + [post['postBody']]\n",
    "            \n",
    "            posts_bow[post['userName']]['subject'] = posts_bow[post['userName']]['subject'] +[post['postSubject']  ]\n",
    "\n",
    "            posts_bow[post['userName']]['title'] = posts_bow[post['userName']]['title'] + [post['threadTitle']  ]\n",
    "            \n",
    "            \n",
    "    return posts_bow\n"
   ]
  },
  {
   "cell_type": "code",
   "execution_count": null,
   "metadata": {
    "collapsed": true
   },
   "outputs": [],
   "source": []
  },
  {
   "cell_type": "code",
   "execution_count": 37,
   "metadata": {
    "collapsed": false
   },
   "outputs": [],
   "source": [
    "posts = usr_bow(posts)"
   ]
  },
  {
   "cell_type": "code",
   "execution_count": 41,
   "metadata": {
    "collapsed": false
   },
   "outputs": [
    {
     "name": "stdout",
     "output_type": "stream",
     "text": [
      "строку signin.ebay.com/ и фулл лог с ним\n",
      "=====================\n",
      "wellsfargo.com аккаунты\n",
      "сойдут и нечеканные \n",
      "со свежих(конец лета-сегодня)логов\n",
      "\n",
      "\n",
      "[email]zbiz@jabbim.com[/email]\n",
      "Обменяю биткоин на wmz 1:1 по курсу btc-e\n",
      "Обменяю биткоин на wmz 1:1 по курсу btc-e\n",
      "\n",
      "PM - есть 5 биткоинов\n"
     ]
    }
   ],
   "source": [
    "for item in  posts['Bitcoin']['body']:\n",
    "    print item"
   ]
  },
  {
   "cell_type": "code",
   "execution_count": null,
   "metadata": {
    "collapsed": true
   },
   "outputs": [],
   "source": [
    "def gen_features():\n",
    "    \n",
    "    \n",
    "    X = []\n",
    "    \n",
    "    Y = []\n",
    "    \n",
    "    \n",
    "    \n",
    "    return X, Y "
   ]
  },
  {
   "cell_type": "code",
   "execution_count": 42,
   "metadata": {
    "collapsed": false
   },
   "outputs": [
    {
     "ename": "ValueError",
     "evalue": "Trailing data",
     "output_type": "error",
     "traceback": [
      "\u001b[1;31m---------------------------------------------------------------------------\u001b[0m",
      "\u001b[1;31mValueError\u001b[0m                                Traceback (most recent call last)",
      "\u001b[1;32m<ipython-input-42-d09992bb336a>\u001b[0m in \u001b[0;36m<module>\u001b[1;34m()\u001b[0m\n\u001b[1;32m----> 1\u001b[1;33m \u001b[0mgtruth\u001b[0m \u001b[1;33m=\u001b[0m \u001b[0mtxt_dict\u001b[0m\u001b[1;33m(\u001b[0m\u001b[1;34m\"data/16_9_matches_j.txt\"\u001b[0m\u001b[1;33m)\u001b[0m\u001b[1;33m\u001b[0m\u001b[0m\n\u001b[0m",
      "\u001b[1;32m<ipython-input-2-fd619a56db3d>\u001b[0m in \u001b[0;36mtxt_dict\u001b[1;34m(filename)\u001b[0m\n\u001b[0;32m      2\u001b[0m     \u001b[1;31m#test loading the file, printing sample contents\u001b[0m\u001b[1;33m\u001b[0m\u001b[1;33m\u001b[0m\u001b[0m\n\u001b[0;32m      3\u001b[0m     \u001b[1;32mwith\u001b[0m \u001b[0mopen\u001b[0m\u001b[1;33m(\u001b[0m\u001b[0mfilename\u001b[0m\u001b[1;33m,\u001b[0m\u001b[1;34m'r'\u001b[0m\u001b[1;33m)\u001b[0m \u001b[1;32mas\u001b[0m \u001b[0mfp\u001b[0m\u001b[1;33m:\u001b[0m\u001b[1;33m\u001b[0m\u001b[0m\n\u001b[1;32m----> 4\u001b[1;33m         \u001b[0mtemp\u001b[0m \u001b[1;33m=\u001b[0m \u001b[0mujson\u001b[0m\u001b[1;33m.\u001b[0m\u001b[0mload\u001b[0m\u001b[1;33m(\u001b[0m\u001b[0mfp\u001b[0m\u001b[1;33m)\u001b[0m\u001b[1;33m;\u001b[0m\u001b[1;33m\u001b[0m\u001b[0m\n\u001b[0m\u001b[0;32m      5\u001b[0m     \u001b[1;31m#print '# elements: ', len(temp1)\u001b[0m\u001b[1;33m\u001b[0m\u001b[1;33m\u001b[0m\u001b[0m\n\u001b[0;32m      6\u001b[0m     \u001b[1;31m#print 'sample of contents:'\u001b[0m\u001b[1;33m\u001b[0m\u001b[1;33m\u001b[0m\u001b[0m\n",
      "\u001b[1;31mValueError\u001b[0m: Trailing data"
     ]
    }
   ],
   "source": [
    "gtruth = txt_dict(\"data/16_9_matches_j.txt\")"
   ]
  },
  {
   "cell_type": "code",
   "execution_count": 43,
   "metadata": {
    "collapsed": true
   },
   "outputs": [],
   "source": [
    "f = open(\"data/16_9_matches_j.txt\")"
   ]
  },
  {
   "cell_type": "code",
   "execution_count": 196,
   "metadata": {
    "collapsed": false
   },
   "outputs": [],
   "source": [
    "def gen_pos_pairs(filename,  postsA, postsB, usrsA, usrsB):\n",
    "\n",
    "    import ujson\n",
    "    import ftfy\n",
    "\n",
    "    with open(filename, 'rb') as f:\n",
    "        data = f.readlines()\n",
    "\n",
    "    data = map(lambda x: x.rstrip(), data)\n",
    "\n",
    "    # convert to array of JSON objects\n",
    "    data_json_str = \"[\" + ','.join(data) + \"]\"\n",
    "\n",
    "    # load it\n",
    "    data_gt = ujson.loads(data_json_str)\n",
    "\n",
    "    X = []\n",
    "    \n",
    "    for pair in data_gt:\n",
    "        \n",
    "        if pair['class'] == 1:\n",
    "            \n",
    "            usr1 = pair['site_a']\n",
    "            \n",
    "            usr2 = pair['site_b']\n",
    "            \n",
    "            if usr2 == u'Ghost\\u2122':\n",
    "                \n",
    "                usr2 = \"GhostTM\"\n",
    "                \n",
    "            if usr2 == u'nicklan&lt;b&gt;&lt;/b&gt;':\n",
    "                \n",
    "                usr2 = u'nicklan<b></b>'\n",
    "            \n",
    "            X.append(featurise(usr1, usr2,  postsA, postsB, usrsA, usrsB))"
   ]
  },
  {
   "cell_type": "code",
   "execution_count": 126,
   "metadata": {
    "collapsed": true
   },
   "outputs": [],
   "source": [
    "def text_to_vector(text):\n",
    "    \n",
    "    from collections import Counter\n",
    "    return Counter(text)\n",
    "\n",
    "\n",
    "def get_cosine(vec1, vec2):\n",
    "    \n",
    "    import math\n",
    "    \n",
    "    intersection = set(vec1.keys()) & set(vec2.keys())\n",
    "    numerator = sum([vec1[x] * vec2[x] for x in intersection])\n",
    "\n",
    "    sum1 = sum([vec1[x]**2 for x in vec1.keys()])\n",
    "    sum2 = sum([vec2[x]**2 for x in vec2.keys()])\n",
    "    denominator = math.sqrt(sum1) * math.sqrt(sum2)\n",
    "\n",
    "    if not denominator:\n",
    "        return 0.0\n",
    "    else:\n",
    "        return float(numerator) / denominator\n",
    "\n",
    "\n"
   ]
  },
  {
   "cell_type": "code",
   "execution_count": 179,
   "metadata": {
    "collapsed": false
   },
   "outputs": [],
   "source": [
    "def indi_scores(l1, l2):\n",
    "    \n",
    "    import numpy as np\n",
    "    \n",
    "    l1_t = []\n",
    "    \n",
    "    l2_t = []\n",
    "    \n",
    "    \n",
    "    for item in l1:\n",
    "        \n",
    "        l1_t.append(set(item.lower().split()))\n",
    "    \n",
    "    for item in l2:\n",
    "        \n",
    "        l2_t.append(set(item.lower().split()))\n",
    "\n",
    "    l1 = l1_t\n",
    "    \n",
    "    l2 = l2_t\n",
    "        \n",
    "    \n",
    "    scores_jac = []\n",
    "    \n",
    "    scores_cs = []\n",
    "    \n",
    "    \n",
    "    for item in l1:\n",
    "        \n",
    "        for item2 in l2:\n",
    "            \n",
    "            if len(item|item2) == 0:\n",
    "                scores_jac.append(0)\n",
    "            else:\n",
    "                scores_jac.append(  float(len(item&item2))/float((len(item|item2))) )   \n",
    "    \n",
    "            vec1 = text_to_vector(item)\n",
    "            vec2 = text_to_vector(item2)\n",
    "    \n",
    "            scores_cs.append(get_cosine(vec1, vec2))\n",
    "    \n",
    "    cs_feats = [ min(scores_cs), max(scores_cs), np.mean(scores_cs)     ]\n",
    "    \n",
    "    \n",
    "    \n",
    "    jac_feats = [ min(scores_jac), max(scores_jac), np.mean(scores_cs)]\n",
    "    \n",
    "    return cs_feats + jac_feats    \n",
    "    \n",
    "def overall_scores(l1, l2):\n",
    "    \n",
    "    \n",
    "    vec = []\n",
    "    \n",
    "    item = set()\n",
    "    \n",
    "    item2 = set()\n",
    "    \n",
    "    for it in l1:\n",
    "        \n",
    "        item |= set(it.lower().split())\n",
    "        \n",
    "    for it in l2:\n",
    "    \n",
    "        item2 |= set(it.lower().split())\n",
    "        \n",
    "    \n",
    "    \n",
    "    if len(item|item2) == 0:\n",
    "            \n",
    "        vec.append(0)\n",
    "        \n",
    "    else:\n",
    "        vec.append(  float(len(item&item2))/float((len(item|item2))) )   \n",
    "\n",
    "    vec1 = text_to_vector(item)\n",
    "    vec2 = text_to_vector(item2)\n",
    "    \n",
    "    vec.append(get_cosine(vec1, vec2))\n",
    "        \n",
    "    return vec\n",
    "\n",
    "        \n",
    "def featurise( usr1, usr2, postsA, postsB, usrA, usrB  ):\n",
    "    \n",
    "    import editdistance\n",
    "    \n",
    "    \n",
    "    vector = []\n",
    "    \n",
    "    \n",
    "    #feature1 : editDist between usernames\n",
    "    \n",
    "    \n",
    "    username1 = usr1\n",
    "    \n",
    "    username2 = usr2\n",
    "    \n",
    "    ft1 = editdistance.eval(usr1, usr2)\n",
    "\n",
    "    vector.append(int(ft1))\n",
    "    \n",
    "    \n",
    "    #feature2 : editDist between lowercase usernames\n",
    "    \n",
    "    ft2 = editdistance.eval(usr1.lower(), usr2.lower())\n",
    "    \n",
    "    vector.append(int(ft2))\n",
    "    \n",
    "    \n",
    "    #feature3 : timediff between user     \n",
    "    \n",
    "    ft3 =  abs(usrsA[usr1]['registrationTime'] - usrsB[usr2]['registrationTime'])\n",
    "    \n",
    "    vector.append(int(ft3))\n",
    "    \n",
    "    #feature4: TimeZone\n",
    "    \n",
    "    if usrsA[usr1]['Time Zone'] == usrsB[usr2]['Time Zone']:\n",
    "    \n",
    "        ft4 = 1\n",
    "        \n",
    "    else:\n",
    "        \n",
    "        ft4 = 0\n",
    "    \n",
    "    vector.append(ft4)\n",
    "  \n",
    "    #text Features\n",
    "    \n",
    "    #feature 5: Textual, Individual\n",
    "    \n",
    "    if (postsA.get(usr1, None) != None) and (postsB.get(usr2, None) != None):\n",
    "    \n",
    "    \n",
    "        ft5 = indi_scores(postsA[usr1]['body'],postsB[usr2]['body'])\n",
    "\n",
    "        ft5 = ft5 + indi_scores(postsA[usr1]['subject'],postsB[usr2]['subject'])\n",
    "\n",
    "        ft5 = ft5 + indi_scores(postsA[usr1]['title'],postsB[usr2]['title'])\n",
    "\n",
    "        vector += ft5    \n",
    "        \n",
    "        \n",
    "                \n",
    "        ft6 = overall_scores(postsA[usr1]['body'],postsB[usr2]['body'])\n",
    "\n",
    "        ft6 = ft6 + overall_scores(postsA[usr1]['subject'],postsB[usr2]['subject'])\n",
    "\n",
    "        ft6 = ft6 + overall_scores(postsA[usr1]['title'],postsB[usr2]['title'])\n",
    "\n",
    "        vector += ft6 \n",
    "                \n",
    "    else:\n",
    "        \n",
    "        vector += [None for i in range(18)]\n",
    "        \n",
    "        vector +=[None for i in range(6)]\n",
    "    \n",
    "    #feature6: Textual, overall\n",
    "\n",
    "\n",
    "\n",
    "    return vector\n",
    "    \n",
    "    \n",
    "    "
   ]
  },
  {
   "cell_type": "code",
   "execution_count": 143,
   "metadata": {
    "collapsed": false
   },
   "outputs": [
    {
     "ename": "KeyError",
     "evalue": "'chiAg'",
     "output_type": "error",
     "traceback": [
      "\u001b[1;31m---------------------------------------------------------------------------\u001b[0m",
      "\u001b[1;31mKeyError\u001b[0m                                  Traceback (most recent call last)",
      "\u001b[1;32m<ipython-input-143-942b02b965c5>\u001b[0m in \u001b[0;36m<module>\u001b[1;34m()\u001b[0m\n\u001b[0;32m      5\u001b[0m \u001b[1;33m\u001b[0m\u001b[0m\n\u001b[0;32m      6\u001b[0m \u001b[1;33m\u001b[0m\u001b[0m\n\u001b[1;32m----> 7\u001b[1;33m \u001b[0mfeaturise\u001b[0m\u001b[1;33m(\u001b[0m\u001b[1;34m\"chiAg\"\u001b[0m\u001b[1;33m,\u001b[0m \u001b[1;34m\"chirag\"\u001b[0m\u001b[1;33m,\u001b[0m \u001b[1;34m\"\"\u001b[0m\u001b[1;33m,\u001b[0m \u001b[1;34m\"\"\u001b[0m\u001b[1;33m,\u001b[0m \u001b[1;34m\"\"\u001b[0m\u001b[1;33m,\u001b[0m \u001b[1;34m\"\"\u001b[0m\u001b[1;33m)\u001b[0m\u001b[1;33m\u001b[0m\u001b[0m\n\u001b[0m",
      "\u001b[1;32m<ipython-input-142-edf0c4b6fe87>\u001b[0m in \u001b[0;36mfeaturise\u001b[1;34m(usr1, usr2, postsA, postsB, usrA, usrB)\u001b[0m\n\u001b[0;32m    110\u001b[0m     \u001b[1;31m#feature3 : timediff between user\u001b[0m\u001b[1;33m\u001b[0m\u001b[1;33m\u001b[0m\u001b[0m\n\u001b[0;32m    111\u001b[0m \u001b[1;33m\u001b[0m\u001b[0m\n\u001b[1;32m--> 112\u001b[1;33m     \u001b[0mft3\u001b[0m \u001b[1;33m=\u001b[0m  \u001b[0mabs\u001b[0m\u001b[1;33m(\u001b[0m\u001b[0musrsA\u001b[0m\u001b[1;33m[\u001b[0m\u001b[0musr1\u001b[0m\u001b[1;33m]\u001b[0m\u001b[1;33m[\u001b[0m\u001b[1;34m'registrationTime'\u001b[0m\u001b[1;33m]\u001b[0m \u001b[1;33m-\u001b[0m \u001b[0musrsB\u001b[0m\u001b[1;33m[\u001b[0m\u001b[0musr2\u001b[0m\u001b[1;33m]\u001b[0m\u001b[1;33m[\u001b[0m\u001b[1;34m'registrationTime'\u001b[0m\u001b[1;33m]\u001b[0m\u001b[1;33m)\u001b[0m\u001b[1;33m\u001b[0m\u001b[0m\n\u001b[0m\u001b[0;32m    113\u001b[0m \u001b[1;33m\u001b[0m\u001b[0m\n\u001b[0;32m    114\u001b[0m     \u001b[0mvector\u001b[0m\u001b[1;33m.\u001b[0m\u001b[0mappend\u001b[0m\u001b[1;33m(\u001b[0m\u001b[0mint\u001b[0m\u001b[1;33m(\u001b[0m\u001b[0mft3\u001b[0m\u001b[1;33m)\u001b[0m\u001b[1;33m)\u001b[0m\u001b[1;33m\u001b[0m\u001b[0m\n",
      "\u001b[1;31mKeyError\u001b[0m: 'chiAg'"
     ]
    }
   ],
   "source": [
    "\n",
    "\n",
    "#gen_pos_pairs(\"data/16_9_matches_j.txt\")\n",
    "\n",
    "\n",
    "\n",
    "featurise(\"chiAg\", \"chirag\", \"\", \"\", \"\", \"\")"
   ]
  },
  {
   "cell_type": "code",
   "execution_count": 144,
   "metadata": {
    "collapsed": false
   },
   "outputs": [],
   "source": [
    "usrsA = collapse_data(txt_dict(\"data/usersAFiltered.txt\"))\n",
    "usrsB = collapse_data(txt_dict(\"data/usersBFiltered.txt\"))\n",
    "postsA = usr_bow(txt_dict(\"data/postsAFiltered.txt\"))\n",
    "postsB = usr_bow(txt_dict(\"data/postsBFiltered.txt\"))"
   ]
  },
  {
   "cell_type": "code",
   "execution_count": 177,
   "metadata": {
    "collapsed": false
   },
   "outputs": [
    {
     "name": "stdout",
     "output_type": "stream",
     "text": [
      "6\n"
     ]
    },
    {
     "data": {
      "text/plain": [
       "[0,\n",
       " 0,\n",
       " 36451698,\n",
       " 0,\n",
       " 0.0,\n",
       " 1.0,\n",
       " 0.02016226879860784,\n",
       " 0.0,\n",
       " 1.0,\n",
       " 0.02016226879860784,\n",
       " 0.0,\n",
       " 0.9999999999999998,\n",
       " 0.0027642495549801594,\n",
       " 0.0,\n",
       " 1.0,\n",
       " 0.0027642495549801594,\n",
       " 0.0,\n",
       " 0.9999999999999998,\n",
       " 0.030410407015986612,\n",
       " 0.0,\n",
       " 1.0,\n",
       " 0.030410407015986612,\n",
       " 0.09918032786885246,\n",
       " 0.18152664098949126,\n",
       " 0.17894736842105263,\n",
       " 0.3120973982254634,\n",
       " 0.10480349344978165,\n",
       " 0.1897959801241706]"
      ]
     },
     "execution_count": 177,
     "metadata": {},
     "output_type": "execute_result"
    }
   ],
   "source": [
    "featurise(\"borisss\", \"borisss\", postsA, postsB, usrsA, usrsB)"
   ]
  },
  {
   "cell_type": "code",
   "execution_count": 98,
   "metadata": {
    "collapsed": false
   },
   "outputs": [
    {
     "data": {
      "text/plain": [
       "{u'Profile Visits': u'0',\n",
       " u'Reputation': u'0',\n",
       " u'Reputation Level': u'4 (Min Reputation 0)',\n",
       " u'Time Zone': u'UTC +2',\n",
       " u'Title': u'User Awaiting Confirmation',\n",
       " 'groupName': {u'(COPPA) Users Awaiting Moderation'},\n",
       " 'image': set(),\n",
       " 'registrationTime': 1407093257}"
      ]
     },
     "execution_count": 98,
     "metadata": {},
     "output_type": "execute_result"
    }
   ],
   "source": [
    "usrsB['nox2007']"
   ]
  },
  {
   "cell_type": "code",
   "execution_count": 112,
   "metadata": {
    "collapsed": false
   },
   "outputs": [],
   "source": [
    "for user in usrsB:\n",
    "    \n",
    "    if \"Time Zone\"  not in usrsB[user].keys():\n",
    "        print \"not here\""
   ]
  },
  {
   "cell_type": "code",
   "execution_count": 137,
   "metadata": {
    "collapsed": false
   },
   "outputs": [
    {
     "name": "stdout",
     "output_type": "stream",
     "text": [
      "borisss\n",
      "borisss\n"
     ]
    }
   ],
   "source": [
    "print usrsA.keys()[0]\n",
    "print usrsB.keys()[0]"
   ]
  },
  {
   "cell_type": "code",
   "execution_count": 152,
   "metadata": {
    "collapsed": false
   },
   "outputs": [
    {
     "data": {
      "text/plain": [
       "{u'Profile Visits': u'209',\n",
       " u'Reputation': u'0',\n",
       " u'Reputation Level': u'4 (Min Reputation 0)',\n",
       " u'Time Zone': u'UTC +2',\n",
       " u'Title': u'Sgarrista',\n",
       " 'groupName': {u'Inactive user'},\n",
       " 'image': {(u'128.gif', u'100', u'100', None, 12631)},\n",
       " 'registrationTime': 1331828585}"
      ]
     },
     "execution_count": 152,
     "metadata": {},
     "output_type": "execute_result"
    }
   ],
   "source": [
    "usrsB['borisss']"
   ]
  },
  {
   "cell_type": "code",
   "execution_count": 150,
   "metadata": {
    "collapsed": false
   },
   "outputs": [],
   "source": [
    "def check_feat(key, d):\n",
    "    \n",
    "    for item in d:\n",
    "        \n",
    "        if key not in d[item].keys():\n",
    "            return \"Not There\", item\n",
    "    \n",
    "    \n",
    "    return \"there in every element! :)\"\n",
    "    "
   ]
  },
  {
   "cell_type": "code",
   "execution_count": 153,
   "metadata": {
    "collapsed": false
   },
   "outputs": [
    {
     "data": {
      "text/plain": [
       "('Not There', u'neuz')"
      ]
     },
     "execution_count": 153,
     "metadata": {},
     "output_type": "execute_result"
    }
   ],
   "source": [
    "check_feat(\"Profile Visits\", usrsB)"
   ]
  },
  {
   "cell_type": "code",
   "execution_count": null,
   "metadata": {
    "collapsed": false
   },
   "outputs": [],
   "source": []
  },
  {
   "cell_type": "code",
   "execution_count": null,
   "metadata": {
    "collapsed": false
   },
   "outputs": [],
   "source": []
  },
  {
   "cell_type": "code",
   "execution_count": 198,
   "metadata": {
    "collapsed": false
   },
   "outputs": [],
   "source": [
    "X = gen_pos_pairs(\"data/16_9_matches_j.txt\", postsA, postsB, usrsA, usrsB)"
   ]
  },
  {
   "cell_type": "code",
   "execution_count": 197,
   "metadata": {
    "collapsed": false
   },
   "outputs": [
    {
     "name": "stdout",
     "output_type": "stream",
     "text": [
      "nicklan<b></b>\n"
     ]
    }
   ],
   "source": [
    "for user in usrsB:\n",
    "    if 'nick' in user:\n",
    "        print user"
   ]
  },
  {
   "cell_type": "code",
   "execution_count": null,
   "metadata": {
    "collapsed": true
   },
   "outputs": [],
   "source": [
    "for user in "
   ]
  }
 ],
 "metadata": {
  "kernelspec": {
   "display_name": "Python 2",
   "language": "python",
   "name": "python2"
  },
  "language_info": {
   "codemirror_mode": {
    "name": "ipython",
    "version": 2
   },
   "file_extension": ".py",
   "mimetype": "text/x-python",
   "name": "python",
   "nbconvert_exporter": "python",
   "pygments_lexer": "ipython2",
   "version": "2.7.5"
  }
 },
 "nbformat": 4,
 "nbformat_minor": 0
}
